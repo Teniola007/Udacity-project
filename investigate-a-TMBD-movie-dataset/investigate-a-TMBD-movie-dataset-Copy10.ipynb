{
 "cells": [
  {
   "cell_type": "markdown",
   "metadata": {},
   "source": [
    "# Project: Investigate a TMBD Movie dataset\n",
    "\n",
    "## Table of Contents\n",
    "<ul>\n",
    "<li><a href=\"#intro\">Introduction</a></li>\n",
    "<li><a href=\"#wrangling\">Data Wrangling</a></li>\n",
    "<li><a href=\"#eda\">Exploratory Data Analysis</a></li>\n",
    "<li><a href=\"#conclusions\">Conclusions</a></li>\n",
    "</ul>"
   ]
  },
  {
   "cell_type": "markdown",
   "metadata": {},
   "source": [
    "<a id='intro'></a>\n",
    "## Introduction\n",
    "\n",
    "This TMBD Movie data set contains information about almost 11,000 movies which can be used to determine several correlations.\n",
    "\n",
    "By the end of this report, the following questions posed should have been answered:\n",
    "\n",
    "    1) Which properties are attributed to movies with high revenue?\n",
    "    2) Which genre has the best and worst movie ranking?\n",
    "    3) What year has the best vote average?\n",
    "    4) Which genre pulls in the most revenue?\n",
    "    5) Which year recorded the most revenue?\n",
    "    6) Which genre is the most popular?\n",
    "    7) Which genre has the most average vote?\n",
    "    \n",
    "    \n"
   ]
  },
  {
   "cell_type": "code",
   "execution_count": 332,
   "metadata": {},
   "outputs": [],
   "source": [
    "# Use this cell to set up import statements for all of the packages that you\n",
    "import pandas as pd\n",
    "import numpy as np\n",
    "import matplotlib.pyplot as plt\n",
    "import seaborn as sns\n",
    "sns.set_style('darkgrid')\n",
    "%matplotlib inline"
   ]
  },
  {
   "cell_type": "markdown",
   "metadata": {},
   "source": [
    "<a id='wrangling'></a>\n",
    "## Data Wrangling\n",
    "\n",
    "### General Properties"
   ]
  },
  {
   "cell_type": "code",
   "execution_count": 333,
   "metadata": {},
   "outputs": [
    {
     "data": {
      "text/html": [
       "<div>\n",
       "<style scoped>\n",
       "    .dataframe tbody tr th:only-of-type {\n",
       "        vertical-align: middle;\n",
       "    }\n",
       "\n",
       "    .dataframe tbody tr th {\n",
       "        vertical-align: top;\n",
       "    }\n",
       "\n",
       "    .dataframe thead th {\n",
       "        text-align: right;\n",
       "    }\n",
       "</style>\n",
       "<table border=\"1\" class=\"dataframe\">\n",
       "  <thead>\n",
       "    <tr style=\"text-align: right;\">\n",
       "      <th></th>\n",
       "      <th>id</th>\n",
       "      <th>imdb_id</th>\n",
       "      <th>popularity</th>\n",
       "      <th>budget</th>\n",
       "      <th>revenue</th>\n",
       "      <th>original_title</th>\n",
       "      <th>cast</th>\n",
       "      <th>homepage</th>\n",
       "      <th>director</th>\n",
       "      <th>tagline</th>\n",
       "      <th>...</th>\n",
       "      <th>overview</th>\n",
       "      <th>runtime</th>\n",
       "      <th>genres</th>\n",
       "      <th>production_companies</th>\n",
       "      <th>release_date</th>\n",
       "      <th>vote_count</th>\n",
       "      <th>vote_average</th>\n",
       "      <th>release_year</th>\n",
       "      <th>budget_adj</th>\n",
       "      <th>revenue_adj</th>\n",
       "    </tr>\n",
       "  </thead>\n",
       "  <tbody>\n",
       "    <tr>\n",
       "      <th>0</th>\n",
       "      <td>135397</td>\n",
       "      <td>tt0369610</td>\n",
       "      <td>32.985763</td>\n",
       "      <td>150000000</td>\n",
       "      <td>1513528810</td>\n",
       "      <td>Jurassic World</td>\n",
       "      <td>Chris Pratt|Bryce Dallas Howard|Irrfan Khan|Vi...</td>\n",
       "      <td>http://www.jurassicworld.com/</td>\n",
       "      <td>Colin Trevorrow</td>\n",
       "      <td>The park is open.</td>\n",
       "      <td>...</td>\n",
       "      <td>Twenty-two years after the events of Jurassic ...</td>\n",
       "      <td>124</td>\n",
       "      <td>Action|Adventure|Science Fiction|Thriller</td>\n",
       "      <td>Universal Studios|Amblin Entertainment|Legenda...</td>\n",
       "      <td>6/9/15</td>\n",
       "      <td>5562</td>\n",
       "      <td>6.5</td>\n",
       "      <td>2015</td>\n",
       "      <td>1.379999e+08</td>\n",
       "      <td>1.392446e+09</td>\n",
       "    </tr>\n",
       "    <tr>\n",
       "      <th>1</th>\n",
       "      <td>76341</td>\n",
       "      <td>tt1392190</td>\n",
       "      <td>28.419936</td>\n",
       "      <td>150000000</td>\n",
       "      <td>378436354</td>\n",
       "      <td>Mad Max: Fury Road</td>\n",
       "      <td>Tom Hardy|Charlize Theron|Hugh Keays-Byrne|Nic...</td>\n",
       "      <td>http://www.madmaxmovie.com/</td>\n",
       "      <td>George Miller</td>\n",
       "      <td>What a Lovely Day.</td>\n",
       "      <td>...</td>\n",
       "      <td>An apocalyptic story set in the furthest reach...</td>\n",
       "      <td>120</td>\n",
       "      <td>Action|Adventure|Science Fiction|Thriller</td>\n",
       "      <td>Village Roadshow Pictures|Kennedy Miller Produ...</td>\n",
       "      <td>5/13/15</td>\n",
       "      <td>6185</td>\n",
       "      <td>7.1</td>\n",
       "      <td>2015</td>\n",
       "      <td>1.379999e+08</td>\n",
       "      <td>3.481613e+08</td>\n",
       "    </tr>\n",
       "    <tr>\n",
       "      <th>2</th>\n",
       "      <td>262500</td>\n",
       "      <td>tt2908446</td>\n",
       "      <td>13.112507</td>\n",
       "      <td>110000000</td>\n",
       "      <td>295238201</td>\n",
       "      <td>Insurgent</td>\n",
       "      <td>Shailene Woodley|Theo James|Kate Winslet|Ansel...</td>\n",
       "      <td>http://www.thedivergentseries.movie/#insurgent</td>\n",
       "      <td>Robert Schwentke</td>\n",
       "      <td>One Choice Can Destroy You</td>\n",
       "      <td>...</td>\n",
       "      <td>Beatrice Prior must confront her inner demons ...</td>\n",
       "      <td>119</td>\n",
       "      <td>Adventure|Science Fiction|Thriller</td>\n",
       "      <td>Summit Entertainment|Mandeville Films|Red Wago...</td>\n",
       "      <td>3/18/15</td>\n",
       "      <td>2480</td>\n",
       "      <td>6.3</td>\n",
       "      <td>2015</td>\n",
       "      <td>1.012000e+08</td>\n",
       "      <td>2.716190e+08</td>\n",
       "    </tr>\n",
       "    <tr>\n",
       "      <th>3</th>\n",
       "      <td>140607</td>\n",
       "      <td>tt2488496</td>\n",
       "      <td>11.173104</td>\n",
       "      <td>200000000</td>\n",
       "      <td>2068178225</td>\n",
       "      <td>Star Wars: The Force Awakens</td>\n",
       "      <td>Harrison Ford|Mark Hamill|Carrie Fisher|Adam D...</td>\n",
       "      <td>http://www.starwars.com/films/star-wars-episod...</td>\n",
       "      <td>J.J. Abrams</td>\n",
       "      <td>Every generation has a story.</td>\n",
       "      <td>...</td>\n",
       "      <td>Thirty years after defeating the Galactic Empi...</td>\n",
       "      <td>136</td>\n",
       "      <td>Action|Adventure|Science Fiction|Fantasy</td>\n",
       "      <td>Lucasfilm|Truenorth Productions|Bad Robot</td>\n",
       "      <td>12/15/15</td>\n",
       "      <td>5292</td>\n",
       "      <td>7.5</td>\n",
       "      <td>2015</td>\n",
       "      <td>1.839999e+08</td>\n",
       "      <td>1.902723e+09</td>\n",
       "    </tr>\n",
       "    <tr>\n",
       "      <th>4</th>\n",
       "      <td>168259</td>\n",
       "      <td>tt2820852</td>\n",
       "      <td>9.335014</td>\n",
       "      <td>190000000</td>\n",
       "      <td>1506249360</td>\n",
       "      <td>Furious 7</td>\n",
       "      <td>Vin Diesel|Paul Walker|Jason Statham|Michelle ...</td>\n",
       "      <td>http://www.furious7.com/</td>\n",
       "      <td>James Wan</td>\n",
       "      <td>Vengeance Hits Home</td>\n",
       "      <td>...</td>\n",
       "      <td>Deckard Shaw seeks revenge against Dominic Tor...</td>\n",
       "      <td>137</td>\n",
       "      <td>Action|Crime|Thriller</td>\n",
       "      <td>Universal Pictures|Original Film|Media Rights ...</td>\n",
       "      <td>4/1/15</td>\n",
       "      <td>2947</td>\n",
       "      <td>7.3</td>\n",
       "      <td>2015</td>\n",
       "      <td>1.747999e+08</td>\n",
       "      <td>1.385749e+09</td>\n",
       "    </tr>\n",
       "  </tbody>\n",
       "</table>\n",
       "<p>5 rows × 21 columns</p>\n",
       "</div>"
      ],
      "text/plain": [
       "       id    imdb_id  popularity     budget     revenue  \\\n",
       "0  135397  tt0369610   32.985763  150000000  1513528810   \n",
       "1   76341  tt1392190   28.419936  150000000   378436354   \n",
       "2  262500  tt2908446   13.112507  110000000   295238201   \n",
       "3  140607  tt2488496   11.173104  200000000  2068178225   \n",
       "4  168259  tt2820852    9.335014  190000000  1506249360   \n",
       "\n",
       "                 original_title  \\\n",
       "0                Jurassic World   \n",
       "1            Mad Max: Fury Road   \n",
       "2                     Insurgent   \n",
       "3  Star Wars: The Force Awakens   \n",
       "4                     Furious 7   \n",
       "\n",
       "                                                cast  \\\n",
       "0  Chris Pratt|Bryce Dallas Howard|Irrfan Khan|Vi...   \n",
       "1  Tom Hardy|Charlize Theron|Hugh Keays-Byrne|Nic...   \n",
       "2  Shailene Woodley|Theo James|Kate Winslet|Ansel...   \n",
       "3  Harrison Ford|Mark Hamill|Carrie Fisher|Adam D...   \n",
       "4  Vin Diesel|Paul Walker|Jason Statham|Michelle ...   \n",
       "\n",
       "                                            homepage          director  \\\n",
       "0                      http://www.jurassicworld.com/   Colin Trevorrow   \n",
       "1                        http://www.madmaxmovie.com/     George Miller   \n",
       "2     http://www.thedivergentseries.movie/#insurgent  Robert Schwentke   \n",
       "3  http://www.starwars.com/films/star-wars-episod...       J.J. Abrams   \n",
       "4                           http://www.furious7.com/         James Wan   \n",
       "\n",
       "                         tagline  ...  \\\n",
       "0              The park is open.  ...   \n",
       "1             What a Lovely Day.  ...   \n",
       "2     One Choice Can Destroy You  ...   \n",
       "3  Every generation has a story.  ...   \n",
       "4            Vengeance Hits Home  ...   \n",
       "\n",
       "                                            overview runtime  \\\n",
       "0  Twenty-two years after the events of Jurassic ...     124   \n",
       "1  An apocalyptic story set in the furthest reach...     120   \n",
       "2  Beatrice Prior must confront her inner demons ...     119   \n",
       "3  Thirty years after defeating the Galactic Empi...     136   \n",
       "4  Deckard Shaw seeks revenge against Dominic Tor...     137   \n",
       "\n",
       "                                      genres  \\\n",
       "0  Action|Adventure|Science Fiction|Thriller   \n",
       "1  Action|Adventure|Science Fiction|Thriller   \n",
       "2         Adventure|Science Fiction|Thriller   \n",
       "3   Action|Adventure|Science Fiction|Fantasy   \n",
       "4                      Action|Crime|Thriller   \n",
       "\n",
       "                                production_companies release_date vote_count  \\\n",
       "0  Universal Studios|Amblin Entertainment|Legenda...       6/9/15       5562   \n",
       "1  Village Roadshow Pictures|Kennedy Miller Produ...      5/13/15       6185   \n",
       "2  Summit Entertainment|Mandeville Films|Red Wago...      3/18/15       2480   \n",
       "3          Lucasfilm|Truenorth Productions|Bad Robot     12/15/15       5292   \n",
       "4  Universal Pictures|Original Film|Media Rights ...       4/1/15       2947   \n",
       "\n",
       "   vote_average  release_year    budget_adj   revenue_adj  \n",
       "0           6.5          2015  1.379999e+08  1.392446e+09  \n",
       "1           7.1          2015  1.379999e+08  3.481613e+08  \n",
       "2           6.3          2015  1.012000e+08  2.716190e+08  \n",
       "3           7.5          2015  1.839999e+08  1.902723e+09  \n",
       "4           7.3          2015  1.747999e+08  1.385749e+09  \n",
       "\n",
       "[5 rows x 21 columns]"
      ]
     },
     "execution_count": 333,
     "metadata": {},
     "output_type": "execute_result"
    }
   ],
   "source": [
    "# Load your data and print out a few lines. Perform operations to inspect data\n",
    "df = pd.read_csv('tmdb-movies.csv')\n",
    "df.head()\n",
    "\n"
   ]
  },
  {
   "cell_type": "code",
   "execution_count": 335,
   "metadata": {},
   "outputs": [
    {
     "name": "stdout",
     "output_type": "stream",
     "text": [
      "0 id\n",
      "1 imdb_id\n",
      "2 popularity\n",
      "3 budget\n",
      "4 revenue\n",
      "5 original_title\n",
      "6 cast\n",
      "7 homepage\n",
      "8 director\n",
      "9 tagline\n",
      "10 keywords\n",
      "11 overview\n",
      "12 runtime\n",
      "13 genres\n",
      "14 production_companies\n",
      "15 release_date\n",
      "16 vote_count\n",
      "17 vote_average\n",
      "18 release_year\n",
      "19 budget_adj\n",
      "20 revenue_adj\n"
     ]
    }
   ],
   "source": [
    "# To view the index number and label for each column\n",
    "for i,v in enumerate(df.columns):\n",
    "    print(i,v)"
   ]
  },
  {
   "cell_type": "code",
   "execution_count": null,
   "metadata": {},
   "outputs": [],
   "source": [
    "#  types and look for instances of missing or possibly errant data.\n",
    "# To display the number of rows and columns\n",
    "df.shape"
   ]
  },
  {
   "cell_type": "markdown",
   "metadata": {},
   "source": [
    "#### DATA TYPES & MISSING VALUES"
   ]
  },
  {
   "cell_type": "code",
   "execution_count": null,
   "metadata": {
    "scrolled": true
   },
   "outputs": [],
   "source": [
    "# To display a concise summary of the dataframe\n",
    "df.info()"
   ]
  },
  {
   "cell_type": "code",
   "execution_count": null,
   "metadata": {},
   "outputs": [],
   "source": [
    "# data type of release_date\n",
    "type(df['release_date'][0])"
   ]
  },
  {
   "cell_type": "code",
   "execution_count": null,
   "metadata": {},
   "outputs": [],
   "source": [
    "# To display columns with missing values\n",
    "df.isnull().sum()"
   ]
  },
  {
   "cell_type": "markdown",
   "metadata": {},
   "source": [
    "#### OBSERVATIONS\n",
    "\n",
    "It can be observed that several values are missing from the dataframe. The following columns have missing values:\n",
    "\n",
    "**imdb_id, cast, homepage, director, tagline, keywords, overview, genres, production_companies.**\n",
    "\n",
    "It can also be observed that **release_date** data type is incorrect."
   ]
  },
  {
   "cell_type": "code",
   "execution_count": null,
   "metadata": {},
   "outputs": [],
   "source": [
    "# Display the number of unique values in each column\n",
    "df.nunique()"
   ]
  },
  {
   "cell_type": "code",
   "execution_count": null,
   "metadata": {},
   "outputs": [],
   "source": [
    "# Displays information about movies with both label at zero\n",
    "df[(df['budget'] == 0) & (df['revenue'] == 0)]"
   ]
  },
  {
   "cell_type": "code",
   "execution_count": null,
   "metadata": {},
   "outputs": [],
   "source": [
    "# Find movies without a runtime\n",
    "df.query('runtime == 0')"
   ]
  },
  {
   "cell_type": "code",
   "execution_count": null,
   "metadata": {},
   "outputs": [],
   "source": [
    "df.production_companies.value_counts()"
   ]
  },
  {
   "cell_type": "code",
   "execution_count": null,
   "metadata": {},
   "outputs": [],
   "source": [
    "df.genres.value_counts()"
   ]
  },
  {
   "cell_type": "code",
   "execution_count": null,
   "metadata": {},
   "outputs": [],
   "source": [
    "df.tagline.value_counts()"
   ]
  },
  {
   "cell_type": "code",
   "execution_count": null,
   "metadata": {},
   "outputs": [],
   "source": [
    "df.keywords.value_counts()"
   ]
  },
  {
   "cell_type": "code",
   "execution_count": null,
   "metadata": {},
   "outputs": [],
   "source": [
    "df.cast.value_counts()"
   ]
  },
  {
   "cell_type": "code",
   "execution_count": null,
   "metadata": {},
   "outputs": [],
   "source": [
    "df.director.value_counts()"
   ]
  },
  {
   "cell_type": "code",
   "execution_count": null,
   "metadata": {},
   "outputs": [],
   "source": [
    "# display number of duplicates\n",
    "df.duplicated().sum()"
   ]
  },
  {
   "cell_type": "code",
   "execution_count": null,
   "metadata": {},
   "outputs": [],
   "source": [
    "df.query('director == \"Woody Allen\"')"
   ]
  },
  {
   "cell_type": "code",
   "execution_count": null,
   "metadata": {},
   "outputs": [],
   "source": [
    "# To display a descriptive statistics of the dataframe\n",
    "df.describe()"
   ]
  },
  {
   "cell_type": "markdown",
   "metadata": {},
   "source": [
    "## Data Cleaning"
   ]
  },
  {
   "cell_type": "markdown",
   "metadata": {},
   "source": [
    "###  DROP EXTRANEOUS COLUMNS"
   ]
  },
  {
   "cell_type": "code",
   "execution_count": 336,
   "metadata": {},
   "outputs": [],
   "source": [
    "#A few of the columns aren't relevant to our questions and it's redundant to have both release year and date. \n",
    "\n",
    "# dropping a few columns\n",
    "df.drop(columns = ['id','homepage', 'overview', 'imdb_id', 'tagline','keywords', 'release_date'], inplace = True)"
   ]
  },
  {
   "cell_type": "markdown",
   "metadata": {},
   "source": [
    "### DROP DUPLICATES"
   ]
  },
  {
   "cell_type": "code",
   "execution_count": 337,
   "metadata": {},
   "outputs": [],
   "source": [
    "# drop duplicates\n",
    "df.drop_duplicates(inplace = True)"
   ]
  },
  {
   "cell_type": "code",
   "execution_count": 338,
   "metadata": {},
   "outputs": [
    {
     "data": {
      "text/plain": [
       "0"
      ]
     },
     "execution_count": 338,
     "metadata": {},
     "output_type": "execute_result"
    }
   ],
   "source": [
    "# verify duplicates\n",
    "df.duplicated().sum()"
   ]
  },
  {
   "cell_type": "markdown",
   "metadata": {},
   "source": [
    "### DROP ROLLS"
   ]
  },
  {
   "cell_type": "code",
   "execution_count": 339,
   "metadata": {},
   "outputs": [],
   "source": [
    "# drop rows with runtime of zero\n",
    "zero_runtime = df.query('runtime == 0')\n",
    "df.drop(zero_runtime.index, inplace = True)"
   ]
  },
  {
   "cell_type": "code",
   "execution_count": 340,
   "metadata": {},
   "outputs": [],
   "source": [
    "# Drop rows without production companies\n",
    "no_company = df[df['production_companies'].isnull()]\n",
    "df.drop(no_company.index, inplace = True)"
   ]
  },
  {
   "cell_type": "code",
   "execution_count": 341,
   "metadata": {},
   "outputs": [],
   "source": [
    "# drop rows without a cast\n",
    "no_cast = df[df.cast.isnull()]\n",
    "df.drop(no_cast.index, inplace = True)"
   ]
  },
  {
   "cell_type": "code",
   "execution_count": 342,
   "metadata": {},
   "outputs": [],
   "source": [
    "# drop rows without a genre\n",
    "no_genres = df[df.genres.isnull()]\n",
    "df.drop(no_genres.index, inplace = True)"
   ]
  },
  {
   "cell_type": "code",
   "execution_count": 343,
   "metadata": {},
   "outputs": [],
   "source": [
    "# drop rows without a director\n",
    "no_director = df[df.director.isnull()] \n",
    "df.drop(no_director.index, inplace = True)"
   ]
  },
  {
   "cell_type": "markdown",
   "metadata": {},
   "source": [
    "## CHANGING DATA TYPE"
   ]
  },
  {
   "cell_type": "code",
   "execution_count": 344,
   "metadata": {},
   "outputs": [],
   "source": [
    "# changing  release year from int to str\n",
    "df['release_year'] = df['release_year'].astype(str)"
   ]
  },
  {
   "cell_type": "markdown",
   "metadata": {},
   "source": [
    "## Replacing pipe(|) to slash(/) in production companies \n",
    "It can be obeserved that within the production companies, some include both pipe and slash. Hence, pipes are replaced with slashes for consistency"
   ]
  },
  {
   "cell_type": "code",
   "execution_count": 345,
   "metadata": {},
   "outputs": [
    {
     "data": {
      "text/plain": [
       "(0, 14)"
      ]
     },
     "execution_count": 345,
     "metadata": {},
     "output_type": "execute_result"
    }
   ],
   "source": [
    "# Replacing pipes with slashes\n",
    "df['production_companies'] = df['production_companies'].str.replace('|','/')\n",
    "\n",
    "\n",
    "# let's get companies without /\n",
    "df[df['production_companies'].str.contains('|') == False].shape"
   ]
  },
  {
   "cell_type": "code",
   "execution_count": 346,
   "metadata": {},
   "outputs": [
    {
     "name": "stdout",
     "output_type": "stream",
     "text": [
      "<class 'pandas.core.frame.DataFrame'>\n",
      "Int64Index: 9759 entries, 0 to 10865\n",
      "Data columns (total 14 columns):\n",
      " #   Column                Non-Null Count  Dtype  \n",
      "---  ------                --------------  -----  \n",
      " 0   popularity            9759 non-null   float64\n",
      " 1   budget                9759 non-null   int64  \n",
      " 2   revenue               9759 non-null   int64  \n",
      " 3   original_title        9759 non-null   object \n",
      " 4   cast                  9759 non-null   object \n",
      " 5   director              9759 non-null   object \n",
      " 6   runtime               9759 non-null   int64  \n",
      " 7   genres                9759 non-null   object \n",
      " 8   production_companies  9759 non-null   object \n",
      " 9   vote_count            9759 non-null   int64  \n",
      " 10  vote_average          9759 non-null   float64\n",
      " 11  release_year          9759 non-null   object \n",
      " 12  budget_adj            9759 non-null   float64\n",
      " 13  revenue_adj           9759 non-null   float64\n",
      "dtypes: float64(4), int64(4), object(6)\n",
      "memory usage: 1.1+ MB\n"
     ]
    }
   ],
   "source": [
    "# verify the current info\n",
    "df.info()"
   ]
  },
  {
   "cell_type": "code",
   "execution_count": 347,
   "metadata": {},
   "outputs": [
    {
     "data": {
      "text/html": [
       "<div>\n",
       "<style scoped>\n",
       "    .dataframe tbody tr th:only-of-type {\n",
       "        vertical-align: middle;\n",
       "    }\n",
       "\n",
       "    .dataframe tbody tr th {\n",
       "        vertical-align: top;\n",
       "    }\n",
       "\n",
       "    .dataframe thead th {\n",
       "        text-align: right;\n",
       "    }\n",
       "</style>\n",
       "<table border=\"1\" class=\"dataframe\">\n",
       "  <thead>\n",
       "    <tr style=\"text-align: right;\">\n",
       "      <th></th>\n",
       "      <th>popularity</th>\n",
       "      <th>budget</th>\n",
       "      <th>revenue</th>\n",
       "      <th>runtime</th>\n",
       "      <th>vote_count</th>\n",
       "      <th>vote_average</th>\n",
       "      <th>budget_adj</th>\n",
       "      <th>revenue_adj</th>\n",
       "    </tr>\n",
       "  </thead>\n",
       "  <tbody>\n",
       "    <tr>\n",
       "      <th>count</th>\n",
       "      <td>9759.000000</td>\n",
       "      <td>9.759000e+03</td>\n",
       "      <td>9.759000e+03</td>\n",
       "      <td>9759.000000</td>\n",
       "      <td>9759.000000</td>\n",
       "      <td>9759.000000</td>\n",
       "      <td>9.759000e+03</td>\n",
       "      <td>9.759000e+03</td>\n",
       "    </tr>\n",
       "    <tr>\n",
       "      <th>mean</th>\n",
       "      <td>0.695266</td>\n",
       "      <td>1.620089e+07</td>\n",
       "      <td>4.429013e+07</td>\n",
       "      <td>103.063736</td>\n",
       "      <td>239.597602</td>\n",
       "      <td>5.964535</td>\n",
       "      <td>1.944155e+07</td>\n",
       "      <td>5.712909e+07</td>\n",
       "    </tr>\n",
       "    <tr>\n",
       "      <th>std</th>\n",
       "      <td>1.037370</td>\n",
       "      <td>3.222692e+07</td>\n",
       "      <td>1.226599e+08</td>\n",
       "      <td>27.641529</td>\n",
       "      <td>603.361812</td>\n",
       "      <td>0.912967</td>\n",
       "      <td>3.568320e+07</td>\n",
       "      <td>1.515364e+08</td>\n",
       "    </tr>\n",
       "    <tr>\n",
       "      <th>min</th>\n",
       "      <td>0.000188</td>\n",
       "      <td>0.000000e+00</td>\n",
       "      <td>0.000000e+00</td>\n",
       "      <td>3.000000</td>\n",
       "      <td>10.000000</td>\n",
       "      <td>1.500000</td>\n",
       "      <td>0.000000e+00</td>\n",
       "      <td>0.000000e+00</td>\n",
       "    </tr>\n",
       "    <tr>\n",
       "      <th>25%</th>\n",
       "      <td>0.232931</td>\n",
       "      <td>0.000000e+00</td>\n",
       "      <td>0.000000e+00</td>\n",
       "      <td>91.000000</td>\n",
       "      <td>18.000000</td>\n",
       "      <td>5.400000</td>\n",
       "      <td>0.000000e+00</td>\n",
       "      <td>0.000000e+00</td>\n",
       "    </tr>\n",
       "    <tr>\n",
       "      <th>50%</th>\n",
       "      <td>0.420185</td>\n",
       "      <td>2.000000e+05</td>\n",
       "      <td>0.000000e+00</td>\n",
       "      <td>100.000000</td>\n",
       "      <td>46.000000</td>\n",
       "      <td>6.000000</td>\n",
       "      <td>3.396151e+05</td>\n",
       "      <td>0.000000e+00</td>\n",
       "    </tr>\n",
       "    <tr>\n",
       "      <th>75%</th>\n",
       "      <td>0.777162</td>\n",
       "      <td>1.965000e+07</td>\n",
       "      <td>3.111596e+07</td>\n",
       "      <td>112.000000</td>\n",
       "      <td>173.500000</td>\n",
       "      <td>6.600000</td>\n",
       "      <td>2.479368e+07</td>\n",
       "      <td>4.317040e+07</td>\n",
       "    </tr>\n",
       "    <tr>\n",
       "      <th>max</th>\n",
       "      <td>32.985763</td>\n",
       "      <td>4.250000e+08</td>\n",
       "      <td>2.781506e+09</td>\n",
       "      <td>877.000000</td>\n",
       "      <td>9767.000000</td>\n",
       "      <td>8.700000</td>\n",
       "      <td>4.250000e+08</td>\n",
       "      <td>2.827124e+09</td>\n",
       "    </tr>\n",
       "  </tbody>\n",
       "</table>\n",
       "</div>"
      ],
      "text/plain": [
       "        popularity        budget       revenue      runtime   vote_count  \\\n",
       "count  9759.000000  9.759000e+03  9.759000e+03  9759.000000  9759.000000   \n",
       "mean      0.695266  1.620089e+07  4.429013e+07   103.063736   239.597602   \n",
       "std       1.037370  3.222692e+07  1.226599e+08    27.641529   603.361812   \n",
       "min       0.000188  0.000000e+00  0.000000e+00     3.000000    10.000000   \n",
       "25%       0.232931  0.000000e+00  0.000000e+00    91.000000    18.000000   \n",
       "50%       0.420185  2.000000e+05  0.000000e+00   100.000000    46.000000   \n",
       "75%       0.777162  1.965000e+07  3.111596e+07   112.000000   173.500000   \n",
       "max      32.985763  4.250000e+08  2.781506e+09   877.000000  9767.000000   \n",
       "\n",
       "       vote_average    budget_adj   revenue_adj  \n",
       "count   9759.000000  9.759000e+03  9.759000e+03  \n",
       "mean       5.964535  1.944155e+07  5.712909e+07  \n",
       "std        0.912967  3.568320e+07  1.515364e+08  \n",
       "min        1.500000  0.000000e+00  0.000000e+00  \n",
       "25%        5.400000  0.000000e+00  0.000000e+00  \n",
       "50%        6.000000  3.396151e+05  0.000000e+00  \n",
       "75%        6.600000  2.479368e+07  4.317040e+07  \n",
       "max        8.700000  4.250000e+08  2.827124e+09  "
      ]
     },
     "execution_count": 347,
     "metadata": {},
     "output_type": "execute_result"
    }
   ],
   "source": [
    "df.describe()"
   ]
  },
  {
   "cell_type": "code",
   "execution_count": 348,
   "metadata": {},
   "outputs": [
    {
     "data": {
      "text/plain": [
       "popularity      1.357116e+00\n",
       "budget          4.762000e+07\n",
       "revenue         1.141887e+08\n",
       "runtime         1.250000e+02\n",
       "vote_count      5.186200e+02\n",
       "vote_average    7.000000e+00\n",
       "budget_adj      5.877318e+07\n",
       "revenue_adj     1.502555e+08\n",
       "Name: 0.89, dtype: float64"
      ]
     },
     "execution_count": 348,
     "metadata": {},
     "output_type": "execute_result"
    }
   ],
   "source": [
    "df.quantile(q=0.89)"
   ]
  },
  {
   "cell_type": "markdown",
   "metadata": {},
   "source": [
    "# Categorical Variable \n",
    "To make the groupby easier, a categorical variable has been created using `pandas cut` function. This creates a new column called **movie_rank** with the following categories\n",
    "\n",
    "\n",
    "**NOTE:** This ranks are based   \n",
    "\n",
    "Movie Rank:  \n",
    "\n",
    "        1. high = 80% to max  \n",
    "        2) moderately high = 50% to 80%  \n",
    "        3) moderately good = 25% to 50%  \n",
    "        4) bad = min to 25%"
   ]
  },
  {
   "cell_type": "code",
   "execution_count": 349,
   "metadata": {},
   "outputs": [],
   "source": [
    "bin_edges = [1.4, 5.4, 6.0, 7.0, 8.7]\n",
    "bin_names = ['bad', 'okay', 'good', 'high']"
   ]
  },
  {
   "cell_type": "code",
   "execution_count": 350,
   "metadata": {},
   "outputs": [],
   "source": [
    "df['movie_rank'] = pd.cut(df['vote_average'], bin_edges, labels = bin_names)"
   ]
  },
  {
   "cell_type": "code",
   "execution_count": null,
   "metadata": {},
   "outputs": [],
   "source": [
    "# making two copies\n",
    "#df1 = df.copy()\n",
    "#df2 = df.copy()"
   ]
  },
  {
   "cell_type": "markdown",
   "metadata": {},
   "source": [
    "<a id='eda'></a>\n",
    "## Exploratory Data Analysis\n",
    "\n",
    "\n",
    "### Research Question 1: Which properties are attributed to movies with high revenue?"
   ]
  },
  {
   "cell_type": "code",
   "execution_count": 271,
   "metadata": {},
   "outputs": [],
   "source": [
    "df.nunique();"
   ]
  },
  {
   "cell_type": "code",
   "execution_count": 351,
   "metadata": {},
   "outputs": [
    {
     "data": {
      "text/html": [
       "<div>\n",
       "<style scoped>\n",
       "    .dataframe tbody tr th:only-of-type {\n",
       "        vertical-align: middle;\n",
       "    }\n",
       "\n",
       "    .dataframe tbody tr th {\n",
       "        vertical-align: top;\n",
       "    }\n",
       "\n",
       "    .dataframe thead th {\n",
       "        text-align: right;\n",
       "    }\n",
       "</style>\n",
       "<table border=\"1\" class=\"dataframe\">\n",
       "  <thead>\n",
       "    <tr style=\"text-align: right;\">\n",
       "      <th></th>\n",
       "      <th>popularity</th>\n",
       "      <th>budget</th>\n",
       "      <th>revenue</th>\n",
       "      <th>runtime</th>\n",
       "      <th>vote_count</th>\n",
       "      <th>vote_average</th>\n",
       "      <th>budget_adj</th>\n",
       "      <th>revenue_adj</th>\n",
       "    </tr>\n",
       "  </thead>\n",
       "  <tbody>\n",
       "    <tr>\n",
       "      <th>count</th>\n",
       "      <td>2041.000000</td>\n",
       "      <td>2.041000e+03</td>\n",
       "      <td>2.041000e+03</td>\n",
       "      <td>2041.000000</td>\n",
       "      <td>2041.000000</td>\n",
       "      <td>2041.000000</td>\n",
       "      <td>2.041000e+03</td>\n",
       "      <td>2.041000e+03</td>\n",
       "    </tr>\n",
       "    <tr>\n",
       "      <th>mean</th>\n",
       "      <td>1.671759</td>\n",
       "      <td>5.407046e+07</td>\n",
       "      <td>1.927170e+08</td>\n",
       "      <td>112.949535</td>\n",
       "      <td>848.561489</td>\n",
       "      <td>6.289564</td>\n",
       "      <td>6.216373e+07</td>\n",
       "      <td>2.422787e+08</td>\n",
       "    </tr>\n",
       "    <tr>\n",
       "      <th>std</th>\n",
       "      <td>1.822736</td>\n",
       "      <td>4.920753e+07</td>\n",
       "      <td>2.090377e+08</td>\n",
       "      <td>24.203506</td>\n",
       "      <td>1081.542994</td>\n",
       "      <td>0.737958</td>\n",
       "      <td>5.090611e+07</td>\n",
       "      <td>2.547234e+08</td>\n",
       "    </tr>\n",
       "    <tr>\n",
       "      <th>min</th>\n",
       "      <td>0.010335</td>\n",
       "      <td>0.000000e+00</td>\n",
       "      <td>4.433202e+07</td>\n",
       "      <td>44.000000</td>\n",
       "      <td>10.000000</td>\n",
       "      <td>3.400000</td>\n",
       "      <td>0.000000e+00</td>\n",
       "      <td>4.084947e+07</td>\n",
       "    </tr>\n",
       "    <tr>\n",
       "      <th>25%</th>\n",
       "      <td>0.760503</td>\n",
       "      <td>2.000000e+07</td>\n",
       "      <td>7.217958e+07</td>\n",
       "      <td>98.000000</td>\n",
       "      <td>205.000000</td>\n",
       "      <td>5.800000</td>\n",
       "      <td>2.579055e+07</td>\n",
       "      <td>9.126838e+07</td>\n",
       "    </tr>\n",
       "    <tr>\n",
       "      <th>50%</th>\n",
       "      <td>1.200825</td>\n",
       "      <td>4.000000e+07</td>\n",
       "      <td>1.195000e+08</td>\n",
       "      <td>110.000000</td>\n",
       "      <td>445.000000</td>\n",
       "      <td>6.300000</td>\n",
       "      <td>4.848671e+07</td>\n",
       "      <td>1.557366e+08</td>\n",
       "    </tr>\n",
       "    <tr>\n",
       "      <th>75%</th>\n",
       "      <td>1.928258</td>\n",
       "      <td>7.500000e+07</td>\n",
       "      <td>2.227242e+08</td>\n",
       "      <td>124.000000</td>\n",
       "      <td>1012.000000</td>\n",
       "      <td>6.800000</td>\n",
       "      <td>8.639749e+07</td>\n",
       "      <td>2.918792e+08</td>\n",
       "    </tr>\n",
       "    <tr>\n",
       "      <th>max</th>\n",
       "      <td>32.985763</td>\n",
       "      <td>3.800000e+08</td>\n",
       "      <td>2.781506e+09</td>\n",
       "      <td>705.000000</td>\n",
       "      <td>9767.000000</td>\n",
       "      <td>8.300000</td>\n",
       "      <td>3.683713e+08</td>\n",
       "      <td>2.827124e+09</td>\n",
       "    </tr>\n",
       "  </tbody>\n",
       "</table>\n",
       "</div>"
      ],
      "text/plain": [
       "        popularity        budget       revenue      runtime   vote_count  \\\n",
       "count  2041.000000  2.041000e+03  2.041000e+03  2041.000000  2041.000000   \n",
       "mean      1.671759  5.407046e+07  1.927170e+08   112.949535   848.561489   \n",
       "std       1.822736  4.920753e+07  2.090377e+08    24.203506  1081.542994   \n",
       "min       0.010335  0.000000e+00  4.433202e+07    44.000000    10.000000   \n",
       "25%       0.760503  2.000000e+07  7.217958e+07    98.000000   205.000000   \n",
       "50%       1.200825  4.000000e+07  1.195000e+08   110.000000   445.000000   \n",
       "75%       1.928258  7.500000e+07  2.227242e+08   124.000000  1012.000000   \n",
       "max      32.985763  3.800000e+08  2.781506e+09   705.000000  9767.000000   \n",
       "\n",
       "       vote_average    budget_adj   revenue_adj  \n",
       "count   2041.000000  2.041000e+03  2.041000e+03  \n",
       "mean       6.289564  6.216373e+07  2.422787e+08  \n",
       "std        0.737958  5.090611e+07  2.547234e+08  \n",
       "min        3.400000  0.000000e+00  4.084947e+07  \n",
       "25%        5.800000  2.579055e+07  9.126838e+07  \n",
       "50%        6.300000  4.848671e+07  1.557366e+08  \n",
       "75%        6.800000  8.639749e+07  2.918792e+08  \n",
       "max        8.300000  3.683713e+08  2.827124e+09  "
      ]
     },
     "execution_count": 351,
     "metadata": {},
     "output_type": "execute_result"
    }
   ],
   "source": [
    "# What kind of properties are associated with movies that have high revenues\n",
    "# For high revenue\n",
    "revenue_mean = df.revenue.mean()\n",
    "high_revenue = df.query('revenue >= {}'.format(revenue_mean))\n",
    "high_revenue.describe() "
   ]
  },
  {
   "cell_type": "code",
   "execution_count": 352,
   "metadata": {},
   "outputs": [
    {
     "name": "stdout",
     "output_type": "stream",
     "text": [
      "<class 'pandas.core.frame.DataFrame'>\n",
      "Int64Index: 2041 entries, 0 to 10819\n",
      "Data columns (total 15 columns):\n",
      " #   Column                Non-Null Count  Dtype   \n",
      "---  ------                --------------  -----   \n",
      " 0   popularity            2041 non-null   float64 \n",
      " 1   budget                2041 non-null   int64   \n",
      " 2   revenue               2041 non-null   int64   \n",
      " 3   original_title        2041 non-null   object  \n",
      " 4   cast                  2041 non-null   object  \n",
      " 5   director              2041 non-null   object  \n",
      " 6   runtime               2041 non-null   int64   \n",
      " 7   genres                2041 non-null   object  \n",
      " 8   production_companies  2041 non-null   object  \n",
      " 9   vote_count            2041 non-null   int64   \n",
      " 10  vote_average          2041 non-null   float64 \n",
      " 11  release_year          2041 non-null   object  \n",
      " 12  budget_adj            2041 non-null   float64 \n",
      " 13  revenue_adj           2041 non-null   float64 \n",
      " 14  movie_rank            2041 non-null   category\n",
      "dtypes: category(1), float64(4), int64(4), object(6)\n",
      "memory usage: 241.4+ KB\n"
     ]
    }
   ],
   "source": [
    "high_revenue.info()"
   ]
  },
  {
   "cell_type": "markdown",
   "metadata": {},
   "source": [
    "### Observation:\n",
    "The tables inform that **less than one-quarter* of the total movies generated high revenue and are averaging a  vote count of almost 900 with a vote average of 6.2**. It also shows the **mininum and maximum vote average alongside the percentiles** - *with 25, 50 and 75 percentile of the movies rated 5.8, 6.3 and 6.8 respectively*, which means that the vote average 6.8 is better than 75% of the vote average and so on. It also shows the average revenue of movies is above 190 million.\n"
   ]
  },
  {
   "cell_type": "markdown",
   "metadata": {},
   "source": [
    "### Research Question 2: Which Genres have the best and worst movie ranking?"
   ]
  },
  {
   "cell_type": "code",
   "execution_count": 353,
   "metadata": {},
   "outputs": [],
   "source": [
    "# creating two new data frames with the following columns: 'genres','popularity', 'release_year', 'revenue', 'movie_rank'\n",
    "locs = np.r_[0,2,7,9,10,11,14,1]\n",
    "df1 = df.iloc[:,locs]\n",
    "df2 = df.iloc[:,locs]\n",
    "df1.columns;"
   ]
  },
  {
   "cell_type": "code",
   "execution_count": 354,
   "metadata": {},
   "outputs": [
    {
     "name": "stderr",
     "output_type": "stream",
     "text": [
      "C:\\Anaconda\\envs\\mynew_env\\lib\\site-packages\\ipykernel_launcher.py:2: SettingWithCopyWarning: \n",
      "A value is trying to be set on a copy of a slice from a DataFrame.\n",
      "Try using .loc[row_indexer,col_indexer] = value instead\n",
      "\n",
      "See the caveats in the documentation: https://pandas.pydata.org/pandas-docs/stable/user_guide/indexing.html#returning-a-view-versus-a-copy\n",
      "  \n"
     ]
    }
   ],
   "source": [
    "# Split the genre column into a list to allow explode functon\n",
    "df1['genres'] = df1['genres'].str.split('|')"
   ]
  },
  {
   "cell_type": "code",
   "execution_count": 355,
   "metadata": {},
   "outputs": [],
   "source": [
    "df1 = df1.explode('genres')"
   ]
  },
  {
   "cell_type": "code",
   "execution_count": 356,
   "metadata": {},
   "outputs": [],
   "source": [
    "# To allow for uniform index, the dataframe will be sorted by genres\n",
    "df3 = df1.sort_values('genres', ascending = True).groupby('movie_rank')['genres'].value_counts().sort_index()"
   ]
  },
  {
   "cell_type": "code",
   "execution_count": 357,
   "metadata": {},
   "outputs": [],
   "source": [
    "# Genres sorted by movierank \n",
    "df3['high'];"
   ]
  },
  {
   "cell_type": "code",
   "execution_count": 358,
   "metadata": {},
   "outputs": [],
   "source": [
    "# creating an index function that returns the length of each dataframe\n",
    "def indexs(data_frame):\n",
    "    return np.arange(len(data_frame))"
   ]
  },
  {
   "cell_type": "code",
   "execution_count": 359,
   "metadata": {},
   "outputs": [
    {
     "data": {
      "image/png": "[encoded data removed]",
      "text/plain": [
       "<Figure size 1080x360 with 1 Axes>"
      ]
     },
     "metadata": {
      "needs_background": "light"
     },
     "output_type": "display_data"
    }
   ],
   "source": [
    "ind = indexs(df3['high'])\n",
    "width = 0.2\n",
    "plt.figure(figsize=(15,5))\n",
    "plt.bar(ind, df3['high'], width, color = 'r', label = 'High');\n",
    "plt.bar(ind + width, df3['good'], width, color = 'y', label = 'Good');\n",
    "plt.bar(ind + width*2, df3['okay'], width, color = 'g', label = 'Okay')\n",
    "plt.bar(ind + width*3, df3['bad'], width, color = 'm', label = 'Bad')\n",
    "# Rotation of the bars names\n",
    "plt.xticks(ind + width, df3['high'].index, rotation = 90);\n",
    "plt.ylabel('Count');\n",
    "plt.xlabel('Genres');\n",
    "plt.title('Genres with High Movie Ranking');\n",
    "plt.legend();"
   ]
  },
  {
   "cell_type": "markdown",
   "metadata": {},
   "source": [
    "### Observation:\n",
    "The plot clearly shows the correlation between genres and movie rank, with the drama genre having the highest number movies associated with the high, good and okay ranking categories, and the third highest with bad ranking. While genres such as: **War, Western, TV Movie and Foreign, have almost similar numbers in all the ranking categories**. It's also visbile that more good ranking movies were produced in almost all genres.  I"
   ]
  },
  {
   "cell_type": "markdown",
   "metadata": {},
   "source": [
    "### Research Question 3: What year has the best vote average?"
   ]
  },
  {
   "cell_type": "code",
   "execution_count": 362,
   "metadata": {},
   "outputs": [],
   "source": [
    "df1;"
   ]
  },
  {
   "cell_type": "code",
   "execution_count": 363,
   "metadata": {},
   "outputs": [],
   "source": [
    "# Displays the vote average according to the release year\n",
    "df4 = df1.groupby('release_year')['vote_average'].mean()"
   ]
  },
  {
   "cell_type": "code",
   "execution_count": 364,
   "metadata": {},
   "outputs": [
    {
     "data": {
      "image/png": "[encoded data removed]",
      "text/plain": [
       "<Figure size 1080x720 with 1 Axes>"
      ]
     },
     "metadata": {
      "needs_background": "light"
     },
     "output_type": "display_data"
    }
   ],
   "source": [
    "inds = indexs(df4)\n",
    "widthx = 0.5\n",
    "plt.figure(figsize=(15,10))\n",
    "plt.bar(inds, df4, widthx, color = 'g');\n",
    "\n",
    "# Rotation of the bars names\n",
    "plt.xticks(inds, df4.index, rotation = 90);\n",
    "plt.ylabel('Vote Average');\n",
    "plt.xlabel('Release Year');\n",
    "plt.title('Vote Average by Year');"
   ]
  },
  {
   "cell_type": "markdown",
   "metadata": {},
   "source": [
    "### Observation:\n",
    "The plot clearly shows the release year with the **highest and lowest vote average - *1973,1969 respectively*.** However, the difference in the average vote between all release year is marginal."
   ]
  },
  {
   "cell_type": "markdown",
   "metadata": {},
   "source": [
    "### Research Question 4: Which genre pulls in the most revenue?"
   ]
  },
  {
   "cell_type": "code",
   "execution_count": 365,
   "metadata": {},
   "outputs": [
    {
     "data": {
      "text/plain": [
       "Index(['popularity', 'revenue', 'genres', 'vote_count', 'vote_average',\n",
       "       'release_year', 'movie_rank', 'budget'],\n",
       "      dtype='object')"
      ]
     },
     "execution_count": 365,
     "metadata": {},
     "output_type": "execute_result"
    }
   ],
   "source": [
    "df1.columns"
   ]
  },
  {
   "cell_type": "code",
   "execution_count": 366,
   "metadata": {},
   "outputs": [],
   "source": [
    "# creating a new data frame with the following columns: 'genres','popularity', 'release_year', 'revenue', 'vote count' and 'budget', not in that order\n",
    "df1.columns\n",
    "locd = np.r_[0,2,1,3,7]\n",
    "df5 = df1.iloc[:,locd]"
   ]
  },
  {
   "cell_type": "code",
   "execution_count": 367,
   "metadata": {},
   "outputs": [],
   "source": [
    "# filtering with genres, revenue and budget\n",
    "genres_rev = df5.groupby('genres')['revenue'].sum()\n",
    "genres_bud = df5.groupby('genres')['budget'].sum()"
   ]
  },
  {
   "cell_type": "code",
   "execution_count": 368,
   "metadata": {},
   "outputs": [
    {
     "data": {
      "image/png": "[encoded data removed]",
      "text/plain": [
       "<Figure size 1080x720 with 1 Axes>"
      ]
     },
     "metadata": {
      "needs_background": "light"
     },
     "output_type": "display_data"
    }
   ],
   "source": [
    "indx = indexs(genres_rev);\n",
    "width = 0.35\n",
    "plt.figure(figsize = (15,10));\n",
    "plt.bar(indx,genres_rev, width, label = 'Revenue')\n",
    "plt.bar(indx + width,genres_bud, width, label = 'Budget')\n",
    "# Rotation of the bars names\n",
    "plt.xticks(indx+ width/2, genres_rev.index, rotation = 90);\n",
    "plt.ylabel('Revenue');\n",
    "plt.xlabel('Genre');\n",
    "plt.title('Genres against Revenue and Budget');\n",
    "plt.legend();"
   ]
  },
  {
   "cell_type": "markdown",
   "metadata": {},
   "source": [
    "### Observation:\n",
    "The plots above shows the relationship between each genres with their budget and revenue, with the **action** genre generating the most revenue, followed by the **adventure** genre while **documentary, foreign, Tv Moive genres generated the least**."
   ]
  },
  {
   "cell_type": "markdown",
   "metadata": {},
   "source": [
    "### Research Question 5: Which year recorded the most revenue?"
   ]
  },
  {
   "cell_type": "code",
   "execution_count": 369,
   "metadata": {},
   "outputs": [],
   "source": [
    "rev_yr = df2.groupby('release_year')['revenue'].sum()\n",
    "rev_yr;"
   ]
  },
  {
   "cell_type": "code",
   "execution_count": 370,
   "metadata": {},
   "outputs": [
    {
     "data": {
      "image/png": "[encoded data removed]",
      "text/plain": [
       "<Figure size 1080x720 with 1 Axes>"
      ]
     },
     "metadata": {
      "needs_background": "light"
     },
     "output_type": "display_data"
    }
   ],
   "source": [
    "index = indexs(rev_yr);\n",
    "width_ = 0.50\n",
    "plt.figure(figsize = (15,10));\n",
    "plt.bar(index,rev_yr, width_)\n",
    "# Rotation of the bars names\n",
    "plt.xticks(index, rev_yr.index, rotation = 90);\n",
    "plt.ylabel('Revenue');\n",
    "plt.xlabel('Release Year');\n",
    "plt.title('Revenue by year');"
   ]
  },
  {
   "cell_type": "markdown",
   "metadata": {},
   "source": [
    "### Observation:\n",
    "The plots above shows the release year with the most and least generated revenue. With the **year 2015** securing first place and **year 1966** in last place. It also shows the fluctuation along the realease year."
   ]
  },
  {
   "cell_type": "markdown",
   "metadata": {},
   "source": [
    "### Research Question 6: Which genre is the most popular?"
   ]
  },
  {
   "cell_type": "code",
   "execution_count": 373,
   "metadata": {},
   "outputs": [],
   "source": [
    "# For the overall popularity by genre\n",
    "gen_pop = df5.groupby('genres')['popularity'].sum()"
   ]
  },
  {
   "cell_type": "code",
   "execution_count": 470,
   "metadata": {},
   "outputs": [],
   "source": [
    "# Creating a function will perform a query on release year and groupby genre/popularity with the Foreign Genre \n",
    "\n",
    "def find_with(year1):\n",
    "    a = df1.query('release_year == \"{}\"'.format(year1));\n",
    "    a1 = a.groupby('genres')['popularity'].sum();\n",
    "    return a1\n",
    "\n",
    "# Creating a function will perform a query on release year and groupby genre/popularity without the Foreign Genre \n",
    "\n",
    "def find_without(year2):    \n",
    "    b = df1.query('release_year == \"{}\"'.format(year2));\n",
    "    b1 = b.groupby('genres')['popularity'].sum();\n",
    "    b1['Foreign'] = 0\n",
    "    b1 = b1.sort_index()\n",
    "    return b1"
   ]
  },
  {
   "cell_type": "code",
   "execution_count": 463,
   "metadata": {},
   "outputs": [],
   "source": [
    "pop_gen_2012 = find_with(2012);\n",
    "pop_gen_2013 = find_without(2013);\n",
    "pop_gen_2014 = find_without(2014);\n",
    "pop_gen_2015 = find_without(2015);"
   ]
  },
  {
   "cell_type": "code",
   "execution_count": 464,
   "metadata": {},
   "outputs": [
    {
     "data": {
      "image/png": "[encoded data removed]",
      "text/plain": [
       "<Figure size 1440x720 with 1 Axes>"
      ]
     },
     "metadata": {
      "needs_background": "light"
     },
     "output_type": "display_data"
    }
   ],
   "source": [
    "indxs = indexs(pop_gen_2012)\n",
    "width_ = 0.15\n",
    "plt.figure(figsize = (20,10))\n",
    "plt.bar(indxs - width_,gen_pop, width_, color = 'c',label = 'Overall')\n",
    "plt.bar(indxs, pop_gen_2015, width_, color = 'r', label = '2015');\n",
    "plt.bar(indxs+width_, pop_gen_2014, width_, color = 'k', label = '2014');\n",
    "plt.bar(indxs+width_*2, pop_gen_2013, width_, color = 'b', label = '2013');\n",
    "plt.bar(indxs+width_*3, pop_gen_2012, width_, color = 'g', label = '2012');\n",
    "plt.xticks(indxs + width_ + 0.1, pop_gen_2015.index, rotation = 90);\n",
    "plt.title('Genres against Popularity per Release Year');\n",
    "plt.ylabel('Popularity')\n",
    "plt.xlabel('Genre')\n",
    "plt.legend();\n"
   ]
  },
  {
   "cell_type": "markdown",
   "metadata": {},
   "source": [
    "### Observation:\n",
    "The plot above shows the genres with the most popularity. Overall, **drama** genre is the most popular. By considering each genres popularity by the release year, you would discover how this comes to be. The **drama** genre is the most popular by of aggregate of each year, with the **foreign** genre having the least, although, the genre does not exist in the latter years - 2013 to 2015"
   ]
  },
  {
   "cell_type": "markdown",
   "metadata": {},
   "source": [
    "### Research Question 7: Which genre has the most average vote?"
   ]
  },
  {
   "cell_type": "code",
   "execution_count": 466,
   "metadata": {},
   "outputs": [],
   "source": [
    "# For the overall vote average\n",
    "gen_vot = df1.groupby('genres')['vote_average'].mean()"
   ]
  },
  {
   "cell_type": "code",
   "execution_count": 467,
   "metadata": {},
   "outputs": [],
   "source": [
    "# Creating a function will perform a query on release year and groupby genre/vote_average with the Foreign Genre\n",
    "\n",
    "def genre_with(year1):\n",
    "    a = df1.query('release_year == \"{}\"'.format(year1));\n",
    "    a1 = a.groupby('genres')['vote_average'].mean();\n",
    "    return a1\n",
    "\n",
    "# Creating a function will perform a query on release year and groupby genre/vote_average without the Foreign Genre \n",
    "\n",
    "def genre_without(year2):    \n",
    "    b = df1.query('release_year == \"{}\"'.format(year2));\n",
    "    b1 = b.groupby('genres')['vote_average'].mean();\n",
    "    b1['Foreign'] = 0\n",
    "    b1 = b1.sort_index()\n",
    "    return b1"
   ]
  },
  {
   "cell_type": "code",
   "execution_count": 468,
   "metadata": {},
   "outputs": [],
   "source": [
    "vot_gen_2012 = genre_with(2012);\n",
    "vot_gen_2013 = genre_without(2013);\n",
    "vot_gen_2014 = genre_without(2014);\n",
    "vot_gen_2015 = genre_without(2015);"
   ]
  },
  {
   "cell_type": "code",
   "execution_count": 469,
   "metadata": {},
   "outputs": [
    {
     "data": {
      "image/png": "[encoded data removed]",
      "text/plain": [
       "<Figure size 1440x720 with 1 Axes>"
      ]
     },
     "metadata": {
      "needs_background": "light"
     },
     "output_type": "display_data"
    }
   ],
   "source": [
    "indxs_ = indexs(vot_gen_2012)\n",
    "width_ = 0.15\n",
    "plt.figure(figsize = (20,10))\n",
    "plt.bar(indxs_ - width_ ,gen_vot, width_, color = 'm',label = 'Overall')\n",
    "plt.bar(indxs_, vot_gen_2015, width_, color = 'r', label = '2015');\n",
    "plt.bar(indxs_ + width_, vot_gen_2014, width_, color = 'k', label = '2014');\n",
    "plt.bar(indxs_ + width_*2, vot_gen_2013, width_, color = 'b', label = '2013');\n",
    "plt.bar(indxs_ + width_*3, vot_gen_2012, width_, color = 'g', label = '2012');\n",
    "plt.xticks(indxs_ + width_ + 0.1, vot_gen_2012.index, rotation = 90);\n",
    "plt.title('Average Vote by Genre per Release Year');\n",
    "plt.ylabel('vote_average')\n",
    "plt.xlabel('Genre')\n",
    "plt.legend();\n"
   ]
  },
  {
   "cell_type": "markdown",
   "metadata": {},
   "source": [
    "### Observation:\n",
    "The plot above shows the genres with the most average vote. Overall, **documentary** genre has the highest while **horror** has the least. By considering each genres average vote by the release year, you would discover how this comes to be."
   ]
  },
  {
   "cell_type": "markdown",
   "metadata": {},
   "source": [
    "<a id='conclusions'></a>\n",
    "## Conclusions"
   ]
  },
  {
   "cell_type": "markdown",
   "metadata": {},
   "source": [
    "Despite the **action** genre generating the most revenue, it is not the most popular genre nor does it have the highest **average vote**. Additionally, the **documentary** genre which has the overall highest **average vote** generates on of the fewest revenue and is also one of least popular. **Drama** genre which is the most popular does not generate as much revenue as action but is one of the top five genres with high revenue. \n",
    "\n",
    "To sum up, there is no clear link between **vote average and popularity**. However,  it is visble that there is one between **popularity and revenue** generated. \n",
    "\n",
    "#### LIMITATIONS\n",
    "Only few years was explored as visually representing all release years on one plot would have been too tedious to interprete."
   ]
  },
  {
   "cell_type": "code",
   "execution_count": null,
   "metadata": {},
   "outputs": [],
   "source": []
  }
 ],
 "metadata": {
  "kernelspec": {
   "display_name": "Python 3",
   "language": "python",
   "name": "python3"
  },
  "language_info": {
   "codemirror_mode": {
    "name": "ipython",
    "version": 3
   },
   "file_extension": ".py",
   "mimetype": "text/x-python",
   "name": "python",
   "nbconvert_exporter": "python",
   "pygments_lexer": "ipython3",
   "version": "3.6.13"
  }
 },
 "nbformat": 4,
 "nbformat_minor": 2
}
